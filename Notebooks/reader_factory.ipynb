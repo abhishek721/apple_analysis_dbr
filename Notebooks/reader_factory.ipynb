{
 "cells": [
  {
   "cell_type": "code",
   "execution_count": 0,
   "metadata": {
    "application/vnd.databricks.v1+cell": {
     "cellMetadata": {
      "byteLimit": 2048000,
      "rowLimit": 10000
     },
     "inputWidgets": {},
     "nuid": "7db23426-84d9-4eb0-987a-6285fd94097f",
     "showTitle": false,
     "tableResultSettingsMap": {},
     "title": ""
    }
   },
   "outputs": [],
   "source": [
    "class DataSource:\n",
    "  \"\"\"Abstract class\"\"\"\n",
    "  def __init__(self, path):\n",
    "    self.path= path\n",
    "  \n",
    "  def get_data_frame(self):\n",
    "    \"\"\"Abstract class will be dined in child class\"\"\"\n",
    "\n",
    "    raise ValueError(\"Not Implemneted\")"
   ]
  },
  {
   "cell_type": "code",
   "execution_count": 0,
   "metadata": {
    "application/vnd.databricks.v1+cell": {
     "cellMetadata": {
      "byteLimit": 2048000,
      "rowLimit": 10000
     },
     "inputWidgets": {},
     "nuid": "cb5a592a-ce44-4a46-825e-7d3476342470",
     "showTitle": false,
     "tableResultSettingsMap": {},
     "title": ""
    }
   },
   "outputs": [],
   "source": [
    "class CSVDataSource(DataSource):\n",
    "  def get_data_frame(self):\n",
    "    return (\n",
    "      spark.read.format(\"csv\").option(\"header\", True).load(self.path)\n",
    "    )\n",
    "\n",
    "class ParquetDataSource(DataSource):\n",
    "  def get_data_frame(self):\n",
    "    return (\n",
    "      spark.read.format(\"parquet\").load(self.path)\n",
    "    )\n",
    "\n",
    "class DeltaDataSource(DataSource):\n",
    "  def get_data_frame(self):\n",
    "    return (\n",
    "      spark.read.format(\"delta\").load(self.path)\n",
    "    )"
   ]
  },
  {
   "cell_type": "code",
   "execution_count": 0,
   "metadata": {
    "application/vnd.databricks.v1+cell": {
     "cellMetadata": {
      "byteLimit": 2048000,
      "rowLimit": 10000
     },
     "inputWidgets": {},
     "nuid": "0b45e58d-5c41-4f97-8e9c-149d6da414e8",
     "showTitle": false,
     "tableResultSettingsMap": {},
     "title": ""
    }
   },
   "outputs": [],
   "source": [
    "def get_data_source(data_type, file_path):\n",
    "  if(data_type == 'csv'):\n",
    "    return CSVDataSource(file_path)\n",
    "  elif(data_type == 'parquet'):\n",
    "    return ParquetDataSource(file_path)\n",
    "  elif(data_type == 'delt'):\n",
    "    return DeltaDataSource(file_path)\n",
    "  else:\n",
    "    raise ValueError(f\"Class not implemented for data type{data_type}\")\n"
   ]
  },
  {
   "cell_type": "code",
   "execution_count": 0,
   "metadata": {
    "application/vnd.databricks.v1+cell": {
     "cellMetadata": {},
     "inputWidgets": {},
     "nuid": "1ff08cbb-4302-4df8-891e-6cc5030af60f",
     "showTitle": false,
     "tableResultSettingsMap": {},
     "title": ""
    }
   },
   "outputs": [],
   "source": []
  }
 ],
 "metadata": {
  "application/vnd.databricks.v1+notebook": {
   "dashboards": [],
   "environmentMetadata": null,
   "language": "python",
   "notebookMetadata": {
    "pythonIndentUnit": 2
   },
   "notebookName": "reader_factory",
   "widgets": {}
  }
 },
 "nbformat": 4,
 "nbformat_minor": 0
}
