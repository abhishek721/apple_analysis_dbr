{
 "cells": [
  {
   "cell_type": "code",
   "execution_count": 0,
   "metadata": {
    "application/vnd.databricks.v1+cell": {
     "cellMetadata": {
      "byteLimit": 2048000,
      "rowLimit": 10000
     },
     "inputWidgets": {},
     "nuid": "e55c9a93-80a7-4052-9846-4a55d18e0a4c",
     "showTitle": false,
     "tableResultSettingsMap": {},
     "title": ""
    }
   },
   "outputs": [],
   "source": [
    "from pyspark.sql.window import Window\n",
    "from pyspark.sql.functions import lead, col\n",
    "\n",
    "\n",
    "class transformer:\n",
    "  def __init__(self):\n",
    "    pass\n",
    "\n",
    "  def transform(self):\n",
    "    pass\n",
    "\n",
    "class FirstTransformer(transformer):\n",
    "  def transform(self, inputDF):\n",
    "    \"\"\"customer who bought Airpod after buying iPhone\"\"\"\n",
    "\n",
    "    transaction_inputDF_t = inputDF.get(\"transaction_inputDF\")\n",
    "    print(\"transaction_inputDF in transform\")\n",
    "\n",
    "    transaction_inputDF_t.show()\n",
    "\n",
    "    windowSpec = Window.partitionBy(\"customer_id\").orderBy(\"transaction_date\")\n",
    "\n",
    "    transformed_df = transaction_inputDF_t.withColumn(\"next_product_name\", lead(\"product_name\").over(windowSpec))\n",
    "\n",
    "    print(\"customer who bought the Airpod after iphone\\n\")\n",
    "    transformed_df.show()\n",
    "\n",
    "    filtered_df = transformed_df.filter((col(\"product_name\") == \"iPhone\") & (col(\"next_product_name\") == \"AirPods\"))\n",
    "\n",
    "    filtered_df.show()\n",
    "\n",
    "    customer_inputDF_t = inputDF.get(\"customer_inputDF\")\n",
    "\n",
    "    print(\"customer input df in transform\")\n",
    "\n",
    "    customer_inputDF_t.show()\n",
    "\n",
    "    #join transaction and customer df\n",
    "\n",
    "    joined_df = customer_inputDF_t.join(filtered_df, \"customer_id\", \"inner\")\n",
    "\n",
    "    print(\"Result: customer information who have brought Airpods after buying the iPhone\")\n",
    "    transformed_df = joined_df.select(\"customer_id\", \"customer_name\", \"location\")\n",
    "    return transformed_df\n",
    "\n",
    "                                  "
   ]
  },
  {
   "cell_type": "code",
   "execution_count": 0,
   "metadata": {
    "application/vnd.databricks.v1+cell": {
     "cellMetadata": {},
     "inputWidgets": {},
     "nuid": "ef458025-ea24-46a6-99fa-06f5fe30505f",
     "showTitle": false,
     "tableResultSettingsMap": {},
     "title": ""
    }
   },
   "outputs": [],
   "source": []
  }
 ],
 "metadata": {
  "application/vnd.databricks.v1+notebook": {
   "dashboards": [],
   "environmentMetadata": null,
   "language": "python",
   "notebookMetadata": {
    "pythonIndentUnit": 2
   },
   "notebookName": "transform",
   "widgets": {}
  }
 },
 "nbformat": 4,
 "nbformat_minor": 0
}
