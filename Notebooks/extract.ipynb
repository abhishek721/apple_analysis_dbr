{
 "cells": [
  {
   "cell_type": "code",
   "execution_count": 0,
   "metadata": {
    "application/vnd.databricks.v1+cell": {
     "cellMetadata": {
      "byteLimit": 2048000,
      "rowLimit": 10000
     },
     "inputWidgets": {},
     "nuid": "6531260e-8d56-4865-a2f1-b2e80e5fffe7",
     "showTitle": false,
     "tableResultSettingsMap": {},
     "title": ""
    }
   },
   "outputs": [],
   "source": [
    "%run \"./reader_factory\""
   ]
  },
  {
   "cell_type": "code",
   "execution_count": 0,
   "metadata": {
    "application/vnd.databricks.v1+cell": {
     "cellMetadata": {
      "byteLimit": 2048000,
      "rowLimit": 10000
     },
     "inputWidgets": {},
     "nuid": "3c808fe8-d58b-4e4c-8beb-874016b15ca9",
     "showTitle": false,
     "tableResultSettingsMap": {},
     "title": ""
    }
   },
   "outputs": [],
   "source": [
    "class extractor:\n",
    "  def __init__(self):\n",
    "    pass\n",
    "\n",
    "  def extract(self):\n",
    "    pass\n",
    "\n",
    "class AirpodAfterIphoneExtractor(extractor):\n",
    "  def extract(self):\n",
    "    \"\"\"implement the data steps for data extraction\"\"\"\n",
    "\n",
    "    transaction_inputDF = get_data_source(\n",
    "      data_type = 'csv',\n",
    "      file_path = 'dbfs:/FileStore/tables/Transaction_Updated.csv'\n",
    "    ).get_data_frame()\n",
    "\n",
    "    customer_inputDF = get_data_source(\n",
    "      data_type = 'csv',\n",
    "      file_path = 'dbfs:/FileStore/tables/Customer_Updated.csv'\n",
    "    ).get_data_frame()\n",
    "\n",
    "    #transaction_inputDF.orderBy(\"customer_id\", \"transaction_date\").show()\n",
    "    #customer_inputDF.show()\n",
    "\n",
    "    input_df = {\n",
    "      \"transaction_inputDF\": transaction_inputDF\n",
    "      ,\"customer_inputDF\": customer_inputDF\n",
    "    }\n",
    "\n",
    "    return input_df\n"
   ]
  },
  {
   "cell_type": "code",
   "execution_count": 0,
   "metadata": {
    "application/vnd.databricks.v1+cell": {
     "cellMetadata": {
      "byteLimit": 2048000,
      "rowLimit": 10000
     },
     "inputWidgets": {},
     "nuid": "5b030d01-8f22-4fbb-8f29-be3ab978338e",
     "showTitle": false,
     "tableResultSettingsMap": {},
     "title": ""
    }
   },
   "outputs": [],
   "source": []
  }
 ],
 "metadata": {
  "application/vnd.databricks.v1+notebook": {
   "dashboards": [],
   "environmentMetadata": null,
   "language": "python",
   "notebookMetadata": {
    "pythonIndentUnit": 2
   },
   "notebookName": "extract",
   "widgets": {}
  }
 },
 "nbformat": 4,
 "nbformat_minor": 0
}
