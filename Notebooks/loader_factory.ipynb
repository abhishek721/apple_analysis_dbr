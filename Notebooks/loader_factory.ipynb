{
 "cells": [
  {
   "cell_type": "code",
   "execution_count": 0,
   "metadata": {
    "application/vnd.databricks.v1+cell": {
     "cellMetadata": {
      "byteLimit": 2048000,
      "rowLimit": 10000
     },
     "inputWidgets": {},
     "nuid": "49bc1047-1605-48f5-a312-81b88e9c81b5",
     "showTitle": false,
     "tableResultSettingsMap": {},
     "title": ""
    }
   },
   "outputs": [],
   "source": [
    "class DataSink:\n",
    "  \"\"\"Abstract class\"\"\"\n",
    "  def __init__(self, df, path, method, params=None):\n",
    "    self.df = df\n",
    "    self.path= path\n",
    "    self.method = method\n",
    "    self.params = params\n",
    "  \n",
    "  def load_data_frame(self):\n",
    "    \"\"\"Abstract class will be defined in child class\"\"\"\n",
    "\n",
    "    raise ValueError(\"Not Implemneted\")"
   ]
  },
  {
   "cell_type": "code",
   "execution_count": 0,
   "metadata": {
    "application/vnd.databricks.v1+cell": {
     "cellMetadata": {
      "byteLimit": 2048000,
      "rowLimit": 10000
     },
     "inputWidgets": {},
     "nuid": "bae062e1-cbc3-4f71-8f28-a1339a546b3a",
     "showTitle": false,
     "tableResultSettingsMap": {},
     "title": ""
    }
   },
   "outputs": [],
   "source": [
    "class LoadtoDBFS(DataSink):\n",
    "  def load_data_frame(self):\n",
    "    self.df.write.mode(self.method).format(\"delta\").save(self.path)\n",
    "\n",
    "class LoadtoDBFSWithPartition(DataSink):\n",
    "  def load_data_frame(self):\n",
    "\n",
    "    #Buketing when cardinality is high and partion when cardinality is low. \n",
    "    partionByColumn = self.params.get(partionByColumn)\n",
    "    self.df.write.mode(self.mode).partitionBy(*partionByColumn).save(self.path)\n",
    "    "
   ]
  },
  {
   "cell_type": "code",
   "execution_count": 0,
   "metadata": {
    "application/vnd.databricks.v1+cell": {
     "cellMetadata": {
      "byteLimit": 2048000,
      "rowLimit": 10000
     },
     "inputWidgets": {},
     "nuid": "307a25de-0731-4a78-ba82-9e5877049bd1",
     "showTitle": false,
     "tableResultSettingsMap": {},
     "title": ""
    }
   },
   "outputs": [],
   "source": [
    "def get_sink_source(sink_type, df, path, method, params=None):\n",
    "  if(sink_type == 'dbfs'):\n",
    "    return LoadtoDBFS(df, path, method, params)\n",
    "  elif(sink_type == 'dbfs_with_partition'):\n",
    "    return LoadtoDBFSWithPartition(df, path,method, params)\n",
    "  else:\n",
    "    raise ValueError(f\"Not Implemneted for {sink_type} type\")"
   ]
  },
  {
   "cell_type": "code",
   "execution_count": 0,
   "metadata": {
    "application/vnd.databricks.v1+cell": {
     "cellMetadata": {},
     "inputWidgets": {},
     "nuid": "3c19499b-ed72-4ac8-a0f6-3de74855ddf1",
     "showTitle": false,
     "tableResultSettingsMap": {},
     "title": ""
    }
   },
   "outputs": [],
   "source": []
  }
 ],
 "metadata": {
  "application/vnd.databricks.v1+notebook": {
   "dashboards": [],
   "environmentMetadata": null,
   "language": "python",
   "notebookMetadata": {
    "pythonIndentUnit": 2
   },
   "notebookName": "loader_factory",
   "widgets": {}
  }
 },
 "nbformat": 4,
 "nbformat_minor": 0
}
