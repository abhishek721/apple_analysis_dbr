{
 "cells": [
  {
   "cell_type": "code",
   "execution_count": 0,
   "metadata": {
    "application/vnd.databricks.v1+cell": {
     "cellMetadata": {
      "byteLimit": 2048000,
      "rowLimit": 10000
     },
     "inputWidgets": {},
     "nuid": "d1142171-c068-4c2a-a364-911cb127aa82",
     "showTitle": false,
     "tableResultSettingsMap": {},
     "title": ""
    }
   },
   "outputs": [],
   "source": [
    "%run \"./extract\""
   ]
  },
  {
   "cell_type": "code",
   "execution_count": 0,
   "metadata": {
    "application/vnd.databricks.v1+cell": {
     "cellMetadata": {
      "byteLimit": 2048000,
      "rowLimit": 10000
     },
     "inputWidgets": {},
     "nuid": "1f101586-944b-480e-817b-6d3445e08024",
     "showTitle": false,
     "tableResultSettingsMap": {},
     "title": ""
    }
   },
   "outputs": [],
   "source": [
    "%run \"./transform\""
   ]
  },
  {
   "cell_type": "code",
   "execution_count": 0,
   "metadata": {
    "application/vnd.databricks.v1+cell": {
     "cellMetadata": {
      "byteLimit": 2048000,
      "rowLimit": 10000
     },
     "inputWidgets": {},
     "nuid": "997f26fd-e62f-4081-b7c4-3ca691340c67",
     "showTitle": false,
     "tableResultSettingsMap": {},
     "title": ""
    }
   },
   "outputs": [],
   "source": [
    "%run \"./load\""
   ]
  },
  {
   "cell_type": "code",
   "execution_count": 0,
   "metadata": {
    "application/vnd.databricks.v1+cell": {
     "cellMetadata": {
      "byteLimit": 2048000,
      "rowLimit": 10000
     },
     "inputWidgets": {},
     "nuid": "93dca915-83db-48bb-88c2-417a4f45a9cb",
     "showTitle": false,
     "tableResultSettingsMap": {},
     "title": ""
    }
   },
   "outputs": [
    {
     "output_type": "stream",
     "name": "stdout",
     "output_type": "stream",
     "text": [
      "transaction_inputDF in transform\n+--------------+-----------+------------+----------------+\n|transaction_id|customer_id|product_name|transaction_date|\n+--------------+-----------+------------+----------------+\n|            11|        105|      iPhone|      2022-02-01|\n|            12|        106|      iPhone|      2022-02-02|\n|            13|        107|     AirPods|      2022-02-03|\n|            14|        105|     AirPods|      2022-02-04|\n|            15|        108|      iPhone|      2022-02-05|\n|            16|        106|     MacBook|      2022-02-06|\n|            17|        107|      iPhone|      2022-02-07|\n|            18|        105|     MacBook|      2022-02-08|\n|            19|        108|     AirPods|      2022-02-09|\n|            20|        106|     AirPods|      2022-02-10|\n+--------------+-----------+------------+----------------+\n\ncustomer who bought the Airpod after iphone\n\n+--------------+-----------+------------+----------------+-----------------+\n|transaction_id|customer_id|product_name|transaction_date|next_product_name|\n+--------------+-----------+------------+----------------+-----------------+\n|            11|        105|      iPhone|      2022-02-01|          AirPods|\n|            14|        105|     AirPods|      2022-02-04|          MacBook|\n|            18|        105|     MacBook|      2022-02-08|             null|\n|            12|        106|      iPhone|      2022-02-02|          MacBook|\n|            16|        106|     MacBook|      2022-02-06|          AirPods|\n|            20|        106|     AirPods|      2022-02-10|             null|\n|            13|        107|     AirPods|      2022-02-03|           iPhone|\n|            17|        107|      iPhone|      2022-02-07|             null|\n|            15|        108|      iPhone|      2022-02-05|          AirPods|\n|            19|        108|     AirPods|      2022-02-09|             null|\n+--------------+-----------+------------+----------------+-----------------+\n\n+--------------+-----------+------------+----------------+-----------------+\n|transaction_id|customer_id|product_name|transaction_date|next_product_name|\n+--------------+-----------+------------+----------------+-----------------+\n|            11|        105|      iPhone|      2022-02-01|          AirPods|\n|            15|        108|      iPhone|      2022-02-05|          AirPods|\n+--------------+-----------+------------+----------------+-----------------+\n\ncustomer input df in transform\n+-----------+-------------+----------+--------+\n|customer_id|customer_name| join_date|location|\n+-----------+-------------+----------+--------+\n|        105|          Eva|2022-01-01|    Ohio|\n|        106|        Frank|2022-02-01|  Nevada|\n|        107|        Grace|2022-03-01|Colorado|\n|        108|        Henry|2022-04-01|    Utah|\n+-----------+-------------+----------+--------+\n\nResult: customer information who have brought Airpods after buying the iPhone\ndata frame initialized\n\nDataFrame[customer_id: string, customer_name: string, location: string]\n"
     ]
    }
   ],
   "source": [
    "class FirstWorkflow:\n",
    "  def __init__(self):\n",
    "    pass\n",
    "\n",
    "  def runner(self):\n",
    "\n",
    "    #step1: Extract the necessary data\n",
    "    input_df = AirpodAfterIphoneExtractor().extract()\n",
    "\n",
    "    #step2: Transform the data according to logic\n",
    "    #Customer who bought AirPods after buying iPhone\n",
    "    first_transform = FirstTransformer().transform(input_df)\n",
    "\n",
    "    #Step3: Load Data to different destination or sink\n",
    "    AirpodAfterIphone(first_transform).sink()\n"
   ]
  },
  {
   "cell_type": "code",
   "execution_count": 0,
   "metadata": {
    "application/vnd.databricks.v1+cell": {
     "cellMetadata": {
      "byteLimit": 2048000,
      "rowLimit": 10000
     },
     "inputWidgets": {},
     "nuid": "d1f2ec39-cf3a-45d1-b265-81d29dccd92b",
     "showTitle": false,
     "tableResultSettingsMap": {},
     "title": ""
    }
   },
   "outputs": [],
   "source": [
    "class SecondWorkflow:\n",
    "  def __init__(self):\n",
    "    pass\n",
    "\n",
    "  def runner(self):\n",
    "\n",
    "    #step1: Extract the necessary data\n",
    "    input_df = AirpodAfterIphoneExtractor().extract()\n",
    "\n",
    "    #step2: Transform the data according to logic\n",
    "    #Customer who bought AirPods after buying iPhone\n",
    "    first_transform = FirstTransformer().transform(input_df)\n",
    "\n",
    "    #Step3: Load Data to different destination or sink\n",
    "    AirpodAfterIphone(first_transform).sink()\n"
   ]
  },
  {
   "cell_type": "code",
   "execution_count": 0,
   "metadata": {
    "application/vnd.databricks.v1+cell": {
     "cellMetadata": {
      "byteLimit": 2048000,
      "rowLimit": 10000
     },
     "inputWidgets": {},
     "nuid": "72107dc8-5d5c-42f1-9b5a-a2856265f0fb",
     "showTitle": false,
     "tableResultSettingsMap": {},
     "title": ""
    }
   },
   "outputs": [
    {
     "output_type": "stream",
     "name": "stdout",
     "output_type": "stream",
     "text": [
      "transaction_inputDF in transform\n+--------------+-----------+------------+----------------+\n|transaction_id|customer_id|product_name|transaction_date|\n+--------------+-----------+------------+----------------+\n|            11|        105|      iPhone|      2022-02-01|\n|            12|        106|      iPhone|      2022-02-02|\n|            13|        107|     AirPods|      2022-02-03|\n|            14|        105|     AirPods|      2022-02-04|\n|            15|        108|      iPhone|      2022-02-05|\n|            16|        106|     MacBook|      2022-02-06|\n|            17|        107|      iPhone|      2022-02-07|\n|            18|        105|     MacBook|      2022-02-08|\n|            19|        108|     AirPods|      2022-02-09|\n|            20|        106|     AirPods|      2022-02-10|\n+--------------+-----------+------------+----------------+\n\ncustomer who bought the Airpod after iphone\n\n+--------------+-----------+------------+----------------+-----------------+\n|transaction_id|customer_id|product_name|transaction_date|next_product_name|\n+--------------+-----------+------------+----------------+-----------------+\n|            11|        105|      iPhone|      2022-02-01|          AirPods|\n|            14|        105|     AirPods|      2022-02-04|          MacBook|\n|            18|        105|     MacBook|      2022-02-08|             null|\n|            12|        106|      iPhone|      2022-02-02|          MacBook|\n|            16|        106|     MacBook|      2022-02-06|          AirPods|\n|            20|        106|     AirPods|      2022-02-10|             null|\n|            13|        107|     AirPods|      2022-02-03|           iPhone|\n|            17|        107|      iPhone|      2022-02-07|             null|\n|            15|        108|      iPhone|      2022-02-05|          AirPods|\n|            19|        108|     AirPods|      2022-02-09|             null|\n+--------------+-----------+------------+----------------+-----------------+\n\n+--------------+-----------+------------+----------------+-----------------+\n|transaction_id|customer_id|product_name|transaction_date|next_product_name|\n+--------------+-----------+------------+----------------+-----------------+\n|            11|        105|      iPhone|      2022-02-01|          AirPods|\n|            15|        108|      iPhone|      2022-02-05|          AirPods|\n+--------------+-----------+------------+----------------+-----------------+\n\ncustomer input df in transform\n+-----------+-------------+----------+--------+\n|customer_id|customer_name| join_date|location|\n+-----------+-------------+----------+--------+\n|        105|          Eva|2022-01-01|    Ohio|\n|        106|        Frank|2022-02-01|  Nevada|\n|        107|        Grace|2022-03-01|Colorado|\n|        108|        Henry|2022-04-01|    Utah|\n+-----------+-------------+----------+--------+\n\nResult: customer information who have brought Airpods after buying the iPhone\ndata frame initialized\n\nDataFrame[customer_id: string, customer_name: string, location: string]\n"
     ]
    }
   ],
   "source": [
    "class WorkFlowRunner:\n",
    "  def __init__(self, name):\n",
    "    self.name = name\n",
    "  \n",
    "  def runner(self):\n",
    "    if(self.name == \"firstflow\"):\n",
    "      return FirstWorkflow().runner()\n",
    "    elif(self.name == \"secondflow\"):\n",
    "      return SecondWorkflow().runner()\n",
    "    else:\n",
    "      raise ValueError(\"Not Implemented\")\n",
    "\n",
    "\n",
    "name = \"firstflow\"\n",
    "workFlowrunner = WorkFlowRunner(name).runner()"
   ]
  },
  {
   "cell_type": "code",
   "execution_count": 0,
   "metadata": {
    "application/vnd.databricks.v1+cell": {
     "cellMetadata": {},
     "inputWidgets": {},
     "nuid": "f706e314-ba49-450f-ad71-45453b813d41",
     "showTitle": false,
     "tableResultSettingsMap": {},
     "title": ""
    }
   },
   "outputs": [],
   "source": []
  }
 ],
 "metadata": {
  "application/vnd.databricks.v1+notebook": {
   "dashboards": [],
   "environmentMetadata": null,
   "language": "python",
   "notebookMetadata": {
    "pythonIndentUnit": 2
   },
   "notebookName": "apple_analysis",
   "widgets": {}
  }
 },
 "nbformat": 4,
 "nbformat_minor": 0
}
