{
 "cells": [
  {
   "cell_type": "code",
   "execution_count": 0,
   "metadata": {
    "application/vnd.databricks.v1+cell": {
     "cellMetadata": {
      "byteLimit": 2048000,
      "rowLimit": 10000
     },
     "inputWidgets": {},
     "nuid": "04e062fe-3ede-420b-82e0-2d80984b8371",
     "showTitle": false,
     "tableResultSettingsMap": {},
     "title": ""
    }
   },
   "outputs": [],
   "source": [
    "%run \"./loader_factory\""
   ]
  },
  {
   "cell_type": "code",
   "execution_count": 0,
   "metadata": {
    "application/vnd.databricks.v1+cell": {
     "cellMetadata": {
      "byteLimit": 2048000,
      "rowLimit": 10000
     },
     "inputWidgets": {},
     "nuid": "579b7110-a061-4e17-b1f4-26294350fe45",
     "showTitle": false,
     "tableResultSettingsMap": {},
     "title": ""
    }
   },
   "outputs": [],
   "source": [
    "class loader:\n",
    "  def __init__(self, df):\n",
    "    print(\"data frame initialized\\n\")\n",
    "    self.df =df\n",
    "    print(self.df)\n",
    "\n",
    "  def sink(self):\n",
    "    pass\n",
    "\n",
    "class AirpodAfterIphone(loader):\n",
    "  def sink(self):\n",
    "    get_sink_source(\n",
    "      sink_type= \"dbfs\"\n",
    "      ,df = self.df\n",
    "      ,path = \"/dbfs/FileStore\"\n",
    "      ,method = \"overwrite\"\n",
    "    ).load_data_frame()"
   ]
  },
  {
   "cell_type": "code",
   "execution_count": 0,
   "metadata": {
    "application/vnd.databricks.v1+cell": {
     "cellMetadata": {},
     "inputWidgets": {},
     "nuid": "41dde77a-fd87-4636-b9ae-313656e5a9bc",
     "showTitle": false,
     "tableResultSettingsMap": {},
     "title": ""
    }
   },
   "outputs": [],
   "source": []
  }
 ],
 "metadata": {
  "application/vnd.databricks.v1+notebook": {
   "dashboards": [],
   "environmentMetadata": null,
   "language": "python",
   "notebookMetadata": {
    "pythonIndentUnit": 2
   },
   "notebookName": "load",
   "widgets": {}
  }
 },
 "nbformat": 4,
 "nbformat_minor": 0
}
